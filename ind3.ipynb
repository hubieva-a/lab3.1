{
 "cells": [
  {
   "cell_type": "markdown",
   "metadata": {},
   "source": [
    "Матричный метод\n"
   ]
  },
  {
   "cell_type": "code",
   "execution_count": 12,
   "metadata": {},
   "outputs": [
    {
     "name": "stdout",
     "output_type": "stream",
     "text": [
      "[[ 6.23880597]\n",
      " [-3.3681592 ]\n",
      " [ 0.27860697]]\n"
     ]
    }
   ],
   "source": [
    "import numpy as np\n",
    "A = np.matrix('10 9 -90; 8 18 60; 4 7 13')\n",
    "B = np.matrix('7; 6; 5')\n",
    "X = np.matrix('0; 0; 0')\n",
    "detA = np.linalg.det(A)\n",
    "invA = np.linalg.inv(A)\n",
    "X = invA * B\n",
    "print(X)"
   ]
  },
  {
   "cell_type": "markdown",
   "metadata": {},
   "source": [
    "Метод Крамера\n"
   ]
  },
  {
   "cell_type": "code",
   "execution_count": 120,
   "metadata": {},
   "outputs": [
    {
     "name": "stdout",
     "output_type": "stream",
     "text": [
      "[[ 59.70149254]\n",
      " [-35.37313433]\n",
      " [  1.        ]]\n"
     ]
    }
   ],
   "source": [
    "C = np.matrix('10 9 -90; 8 18 60; 4 7 13')\n",
    "D = np.matrix('10; 20; 30')\n",
    "X = np.matrix('0; 0; 0')\n",
    "detC = np.linalg.det(C)\n",
    "C1 = np.zeros((3,3))\n",
    "C1 = C.copy()\n",
    "C1[:, 0] = D\n",
    "detC1 = np.linalg.det(C1)\n",
    "C2 = C.copy()\n",
    "C2[:, 1] = D\n",
    "detC2 = np.linalg.det(C2)\n",
    "C3 = C.copy()\n",
    "C2[:, 2] = D\n",
    "detC3 = np.linalg.det(C3)\n",
    "X1 = detC1 / detC\n",
    "X2 = detC2 / detC\n",
    "X3 = detC3 / detC\n",
    "X = np.vstack((X1, X2, X3))\n",
    "print(X)"
   ]
  },
  {
   "cell_type": "code",
   "execution_count": null,
   "metadata": {},
   "outputs": [],
   "source": []
  },
  {
   "cell_type": "code",
   "execution_count": null,
   "metadata": {},
   "outputs": [],
   "source": []
  }
 ],
 "metadata": {
  "kernelspec": {
   "display_name": "Python 3",
   "language": "python",
   "name": "python3"
  },
  "language_info": {
   "codemirror_mode": {
    "name": "ipython",
    "version": 3
   },
   "file_extension": ".py",
   "mimetype": "text/x-python",
   "name": "python",
   "nbconvert_exporter": "python",
   "pygments_lexer": "ipython3",
   "version": "3.8.5"
  }
 },
 "nbformat": 4,
 "nbformat_minor": 4
}
